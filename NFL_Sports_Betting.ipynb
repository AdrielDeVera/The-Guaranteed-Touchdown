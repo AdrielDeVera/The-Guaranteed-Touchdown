{
  "cells": [
    {
      "cell_type": "markdown",
      "metadata": {
        "id": "vj4Qng-GpfJm"
      },
      "source": [
        "# NFL Game Score Prediction\n",
        "We will be using historical NFL game data to predict team performance with consideration to other independent variables such as stadium, weather, and media odds. \n",
        "\n",
        "A model that predicts the score of each team based on variables such as home-team status, weather, and historical performance is leveraged to generate predicted scores. To boost the currency of the data used, only the previous seasons since 2000 will be used. \n",
        "\n"
      ]
    },
    {
      "cell_type": "code",
      "execution_count": null,
      "metadata": {
        "id": "FT5WD9ucdck2"
      },
      "outputs": [],
      "source": [
        "# Importing libraries\n",
        "import pandas as pd\n",
        "import numpy as np\n",
        "import matplotlib.pyplot as plt\n",
        "%matplotlib inline\n",
        "\n",
        "stadiums = pd.read_csv('/nfl_stadiums.csv', encoding='latin1')\n",
        "teams = pd.read_csv('/nfl_teams.csv', encoding='latin1')\n",
        "games = pd.read_csv('/spreadspoke_scores.csv',encoding='latin1')"
      ]
    },
    {
      "cell_type": "code",
      "execution_count": null,
      "metadata": {
        "colab": {
          "base_uri": "https://localhost:8080/",
          "height": 228
        },
        "id": "TY8Wk5ZhfBgo",
        "outputId": "0155df1e-3919-40e5-a579-cd943b594b17"
      },
      "outputs": [
        {
          "output_type": "execute_result",
          "data": {
            "text/plain": [
              "        stadium_name stadium_location  stadium_open  stadium_close  \\\n",
              "0         Alamo Dome  San Antonio, TX           NaN            NaN   \n",
              "1  Allegiant Stadium     Paradise, NV        2020.0            NaN   \n",
              "\n",
              "  stadium_type                        stadium_address  \\\n",
              "0       indoor  100 Montana St, San Antonio, TX 78203   \n",
              "1       indoor                                    NaN   \n",
              "\n",
              "  stadium_weather_station_code stadium_weather_type stadium_capacity  \\\n",
              "0                        78203                 dome            72000   \n",
              "1                          NaN                 dome            65000   \n",
              "\n",
              "  stadium_surface STATION NAME  LATITUDE  LONGITUDE  ELEVATION  \n",
              "0       FieldTurf     NaN  NaN       NaN        NaN        NaN  \n",
              "1           Grass     NaN  NaN       NaN        NaN        NaN  "
            ],
            "text/html": [
              "\n",
              "  <div id=\"df-9a793177-8c5c-4f35-878f-96712f3710fe\">\n",
              "    <div class=\"colab-df-container\">\n",
              "      <div>\n",
              "<style scoped>\n",
              "    .dataframe tbody tr th:only-of-type {\n",
              "        vertical-align: middle;\n",
              "    }\n",
              "\n",
              "    .dataframe tbody tr th {\n",
              "        vertical-align: top;\n",
              "    }\n",
              "\n",
              "    .dataframe thead th {\n",
              "        text-align: right;\n",
              "    }\n",
              "</style>\n",
              "<table border=\"1\" class=\"dataframe\">\n",
              "  <thead>\n",
              "    <tr style=\"text-align: right;\">\n",
              "      <th></th>\n",
              "      <th>stadium_name</th>\n",
              "      <th>stadium_location</th>\n",
              "      <th>stadium_open</th>\n",
              "      <th>stadium_close</th>\n",
              "      <th>stadium_type</th>\n",
              "      <th>stadium_address</th>\n",
              "      <th>stadium_weather_station_code</th>\n",
              "      <th>stadium_weather_type</th>\n",
              "      <th>stadium_capacity</th>\n",
              "      <th>stadium_surface</th>\n",
              "      <th>STATION</th>\n",
              "      <th>NAME</th>\n",
              "      <th>LATITUDE</th>\n",
              "      <th>LONGITUDE</th>\n",
              "      <th>ELEVATION</th>\n",
              "    </tr>\n",
              "  </thead>\n",
              "  <tbody>\n",
              "    <tr>\n",
              "      <th>0</th>\n",
              "      <td>Alamo Dome</td>\n",
              "      <td>San Antonio, TX</td>\n",
              "      <td>NaN</td>\n",
              "      <td>NaN</td>\n",
              "      <td>indoor</td>\n",
              "      <td>100 Montana St, San Antonio, TX 78203</td>\n",
              "      <td>78203</td>\n",
              "      <td>dome</td>\n",
              "      <td>72000</td>\n",
              "      <td>FieldTurf</td>\n",
              "      <td>NaN</td>\n",
              "      <td>NaN</td>\n",
              "      <td>NaN</td>\n",
              "      <td>NaN</td>\n",
              "      <td>NaN</td>\n",
              "    </tr>\n",
              "    <tr>\n",
              "      <th>1</th>\n",
              "      <td>Allegiant Stadium</td>\n",
              "      <td>Paradise, NV</td>\n",
              "      <td>2020.0</td>\n",
              "      <td>NaN</td>\n",
              "      <td>indoor</td>\n",
              "      <td>NaN</td>\n",
              "      <td>NaN</td>\n",
              "      <td>dome</td>\n",
              "      <td>65000</td>\n",
              "      <td>Grass</td>\n",
              "      <td>NaN</td>\n",
              "      <td>NaN</td>\n",
              "      <td>NaN</td>\n",
              "      <td>NaN</td>\n",
              "      <td>NaN</td>\n",
              "    </tr>\n",
              "  </tbody>\n",
              "</table>\n",
              "</div>\n",
              "      <button class=\"colab-df-convert\" onclick=\"convertToInteractive('df-9a793177-8c5c-4f35-878f-96712f3710fe')\"\n",
              "              title=\"Convert this dataframe to an interactive table.\"\n",
              "              style=\"display:none;\">\n",
              "        \n",
              "  <svg xmlns=\"http://www.w3.org/2000/svg\" height=\"24px\"viewBox=\"0 0 24 24\"\n",
              "       width=\"24px\">\n",
              "    <path d=\"M0 0h24v24H0V0z\" fill=\"none\"/>\n",
              "    <path d=\"M18.56 5.44l.94 2.06.94-2.06 2.06-.94-2.06-.94-.94-2.06-.94 2.06-2.06.94zm-11 1L8.5 8.5l.94-2.06 2.06-.94-2.06-.94L8.5 2.5l-.94 2.06-2.06.94zm10 10l.94 2.06.94-2.06 2.06-.94-2.06-.94-.94-2.06-.94 2.06-2.06.94z\"/><path d=\"M17.41 7.96l-1.37-1.37c-.4-.4-.92-.59-1.43-.59-.52 0-1.04.2-1.43.59L10.3 9.45l-7.72 7.72c-.78.78-.78 2.05 0 2.83L4 21.41c.39.39.9.59 1.41.59.51 0 1.02-.2 1.41-.59l7.78-7.78 2.81-2.81c.8-.78.8-2.07 0-2.86zM5.41 20L4 18.59l7.72-7.72 1.47 1.35L5.41 20z\"/>\n",
              "  </svg>\n",
              "      </button>\n",
              "      \n",
              "  <style>\n",
              "    .colab-df-container {\n",
              "      display:flex;\n",
              "      flex-wrap:wrap;\n",
              "      gap: 12px;\n",
              "    }\n",
              "\n",
              "    .colab-df-convert {\n",
              "      background-color: #E8F0FE;\n",
              "      border: none;\n",
              "      border-radius: 50%;\n",
              "      cursor: pointer;\n",
              "      display: none;\n",
              "      fill: #1967D2;\n",
              "      height: 32px;\n",
              "      padding: 0 0 0 0;\n",
              "      width: 32px;\n",
              "    }\n",
              "\n",
              "    .colab-df-convert:hover {\n",
              "      background-color: #E2EBFA;\n",
              "      box-shadow: 0px 1px 2px rgba(60, 64, 67, 0.3), 0px 1px 3px 1px rgba(60, 64, 67, 0.15);\n",
              "      fill: #174EA6;\n",
              "    }\n",
              "\n",
              "    [theme=dark] .colab-df-convert {\n",
              "      background-color: #3B4455;\n",
              "      fill: #D2E3FC;\n",
              "    }\n",
              "\n",
              "    [theme=dark] .colab-df-convert:hover {\n",
              "      background-color: #434B5C;\n",
              "      box-shadow: 0px 1px 3px 1px rgba(0, 0, 0, 0.15);\n",
              "      filter: drop-shadow(0px 1px 2px rgba(0, 0, 0, 0.3));\n",
              "      fill: #FFFFFF;\n",
              "    }\n",
              "  </style>\n",
              "\n",
              "      <script>\n",
              "        const buttonEl =\n",
              "          document.querySelector('#df-9a793177-8c5c-4f35-878f-96712f3710fe button.colab-df-convert');\n",
              "        buttonEl.style.display =\n",
              "          google.colab.kernel.accessAllowed ? 'block' : 'none';\n",
              "\n",
              "        async function convertToInteractive(key) {\n",
              "          const element = document.querySelector('#df-9a793177-8c5c-4f35-878f-96712f3710fe');\n",
              "          const dataTable =\n",
              "            await google.colab.kernel.invokeFunction('convertToInteractive',\n",
              "                                                     [key], {});\n",
              "          if (!dataTable) return;\n",
              "\n",
              "          const docLinkHtml = 'Like what you see? Visit the ' +\n",
              "            '<a target=\"_blank\" href=https://colab.research.google.com/notebooks/data_table.ipynb>data table notebook</a>'\n",
              "            + ' to learn more about interactive tables.';\n",
              "          element.innerHTML = '';\n",
              "          dataTable['output_type'] = 'display_data';\n",
              "          await google.colab.output.renderOutput(dataTable, element);\n",
              "          const docLink = document.createElement('div');\n",
              "          docLink.innerHTML = docLinkHtml;\n",
              "          element.appendChild(docLink);\n",
              "        }\n",
              "      </script>\n",
              "    </div>\n",
              "  </div>\n",
              "  "
            ]
          },
          "metadata": {},
          "execution_count": 119
        }
      ],
      "source": [
        "stadiums.head(2)"
      ]
    },
    {
      "cell_type": "code",
      "execution_count": null,
      "metadata": {
        "id": "cN-ZcHv7xPlz"
      },
      "outputs": [],
      "source": [
        "# Dropping unnecessary features\n",
        "stadiums.drop(columns=['stadium_address', 'stadium_weather_station_code' ,'STATION',\t'NAME',\t'LATITUDE',\t'LONGITUDE', 'ELEVATION'], inplace=True)"
      ]
    },
    {
      "cell_type": "code",
      "execution_count": null,
      "metadata": {
        "id": "SSerte8ByA69"
      },
      "outputs": [],
      "source": [
        "# Converting dtype to datetime\n",
        "games['schedule_date'] = pd.to_datetime(games['schedule_date'])"
      ]
    },
    {
      "cell_type": "code",
      "execution_count": null,
      "metadata": {
        "id": "l8Pf1mGTy3_G",
        "colab": {
          "base_uri": "https://localhost:8080/"
        },
        "outputId": "841fccb7-a4ed-4546-df6f-2b122e29e3f2"
      },
      "outputs": [
        {
          "output_type": "execute_result",
          "data": {
            "text/plain": [
              "2021    285\n",
              "2020    269\n",
              "2012    267\n",
              "2019    267\n",
              "2018    267\n",
              "2017    267\n",
              "2016    267\n",
              "2015    267\n",
              "2014    267\n",
              "2013    267\n",
              "2011    267\n",
              "2010    267\n",
              "2009    267\n",
              "2008    267\n",
              "2007    267\n",
              "2006    267\n",
              "2005    267\n",
              "2004    267\n",
              "2003    267\n",
              "2002    267\n",
              "2001    259\n",
              "2000    259\n",
              "Name: schedule_season, dtype: int64"
            ]
          },
          "metadata": {},
          "execution_count": 122
        }
      ],
      "source": [
        "# Removing entries that fall prior to 2000.\n",
        "mask = (games['schedule_date'] > '2000-1-1')\n",
        "games = games.loc[mask]\n",
        "games = games[games['schedule_season'] != 1999]\n",
        "games['schedule_season'].value_counts()"
      ]
    },
    {
      "cell_type": "code",
      "execution_count": null,
      "metadata": {
        "id": "Wde2sPK10QqB"
      },
      "outputs": [],
      "source": [
        "# Dropping extra unnecessary column\n",
        "games.drop(columns=['over_under_line'], inplace=True)"
      ]
    },
    {
      "cell_type": "code",
      "execution_count": null,
      "metadata": {
        "id": "VTkNPDKx1VTT",
        "colab": {
          "base_uri": "https://localhost:8080/",
          "height": 112
        },
        "outputId": "1aeddb37-a809-4be0-f23a-7d7b15f60946"
      },
      "outputs": [
        {
          "output_type": "execute_result",
          "data": {
            "text/plain": [
              "      schedule_playoff  stadium_neutral\n",
              "7354                 0                0\n",
              "7355                 0                0"
            ],
            "text/html": [
              "\n",
              "  <div id=\"df-cd399d24-c112-455b-ba53-764c09ca869f\">\n",
              "    <div class=\"colab-df-container\">\n",
              "      <div>\n",
              "<style scoped>\n",
              "    .dataframe tbody tr th:only-of-type {\n",
              "        vertical-align: middle;\n",
              "    }\n",
              "\n",
              "    .dataframe tbody tr th {\n",
              "        vertical-align: top;\n",
              "    }\n",
              "\n",
              "    .dataframe thead th {\n",
              "        text-align: right;\n",
              "    }\n",
              "</style>\n",
              "<table border=\"1\" class=\"dataframe\">\n",
              "  <thead>\n",
              "    <tr style=\"text-align: right;\">\n",
              "      <th></th>\n",
              "      <th>schedule_playoff</th>\n",
              "      <th>stadium_neutral</th>\n",
              "    </tr>\n",
              "  </thead>\n",
              "  <tbody>\n",
              "    <tr>\n",
              "      <th>7354</th>\n",
              "      <td>0</td>\n",
              "      <td>0</td>\n",
              "    </tr>\n",
              "    <tr>\n",
              "      <th>7355</th>\n",
              "      <td>0</td>\n",
              "      <td>0</td>\n",
              "    </tr>\n",
              "  </tbody>\n",
              "</table>\n",
              "</div>\n",
              "      <button class=\"colab-df-convert\" onclick=\"convertToInteractive('df-cd399d24-c112-455b-ba53-764c09ca869f')\"\n",
              "              title=\"Convert this dataframe to an interactive table.\"\n",
              "              style=\"display:none;\">\n",
              "        \n",
              "  <svg xmlns=\"http://www.w3.org/2000/svg\" height=\"24px\"viewBox=\"0 0 24 24\"\n",
              "       width=\"24px\">\n",
              "    <path d=\"M0 0h24v24H0V0z\" fill=\"none\"/>\n",
              "    <path d=\"M18.56 5.44l.94 2.06.94-2.06 2.06-.94-2.06-.94-.94-2.06-.94 2.06-2.06.94zm-11 1L8.5 8.5l.94-2.06 2.06-.94-2.06-.94L8.5 2.5l-.94 2.06-2.06.94zm10 10l.94 2.06.94-2.06 2.06-.94-2.06-.94-.94-2.06-.94 2.06-2.06.94z\"/><path d=\"M17.41 7.96l-1.37-1.37c-.4-.4-.92-.59-1.43-.59-.52 0-1.04.2-1.43.59L10.3 9.45l-7.72 7.72c-.78.78-.78 2.05 0 2.83L4 21.41c.39.39.9.59 1.41.59.51 0 1.02-.2 1.41-.59l7.78-7.78 2.81-2.81c.8-.78.8-2.07 0-2.86zM5.41 20L4 18.59l7.72-7.72 1.47 1.35L5.41 20z\"/>\n",
              "  </svg>\n",
              "      </button>\n",
              "      \n",
              "  <style>\n",
              "    .colab-df-container {\n",
              "      display:flex;\n",
              "      flex-wrap:wrap;\n",
              "      gap: 12px;\n",
              "    }\n",
              "\n",
              "    .colab-df-convert {\n",
              "      background-color: #E8F0FE;\n",
              "      border: none;\n",
              "      border-radius: 50%;\n",
              "      cursor: pointer;\n",
              "      display: none;\n",
              "      fill: #1967D2;\n",
              "      height: 32px;\n",
              "      padding: 0 0 0 0;\n",
              "      width: 32px;\n",
              "    }\n",
              "\n",
              "    .colab-df-convert:hover {\n",
              "      background-color: #E2EBFA;\n",
              "      box-shadow: 0px 1px 2px rgba(60, 64, 67, 0.3), 0px 1px 3px 1px rgba(60, 64, 67, 0.15);\n",
              "      fill: #174EA6;\n",
              "    }\n",
              "\n",
              "    [theme=dark] .colab-df-convert {\n",
              "      background-color: #3B4455;\n",
              "      fill: #D2E3FC;\n",
              "    }\n",
              "\n",
              "    [theme=dark] .colab-df-convert:hover {\n",
              "      background-color: #434B5C;\n",
              "      box-shadow: 0px 1px 3px 1px rgba(0, 0, 0, 0.15);\n",
              "      filter: drop-shadow(0px 1px 2px rgba(0, 0, 0, 0.3));\n",
              "      fill: #FFFFFF;\n",
              "    }\n",
              "  </style>\n",
              "\n",
              "      <script>\n",
              "        const buttonEl =\n",
              "          document.querySelector('#df-cd399d24-c112-455b-ba53-764c09ca869f button.colab-df-convert');\n",
              "        buttonEl.style.display =\n",
              "          google.colab.kernel.accessAllowed ? 'block' : 'none';\n",
              "\n",
              "        async function convertToInteractive(key) {\n",
              "          const element = document.querySelector('#df-cd399d24-c112-455b-ba53-764c09ca869f');\n",
              "          const dataTable =\n",
              "            await google.colab.kernel.invokeFunction('convertToInteractive',\n",
              "                                                     [key], {});\n",
              "          if (!dataTable) return;\n",
              "\n",
              "          const docLinkHtml = 'Like what you see? Visit the ' +\n",
              "            '<a target=\"_blank\" href=https://colab.research.google.com/notebooks/data_table.ipynb>data table notebook</a>'\n",
              "            + ' to learn more about interactive tables.';\n",
              "          element.innerHTML = '';\n",
              "          dataTable['output_type'] = 'display_data';\n",
              "          await google.colab.output.renderOutput(dataTable, element);\n",
              "          const docLink = document.createElement('div');\n",
              "          docLink.innerHTML = docLinkHtml;\n",
              "          element.appendChild(docLink);\n",
              "        }\n",
              "      </script>\n",
              "    </div>\n",
              "  </div>\n",
              "  "
            ]
          },
          "metadata": {},
          "execution_count": 124
        }
      ],
      "source": [
        "# Converting datatypes to 0,1 binary codes\n",
        "games[\"schedule_playoff\"] = games[\"schedule_playoff\"].astype(int)\n",
        "games['stadium_neutral'] = games['stadium_neutral'].astype(int)\n",
        "games[['schedule_playoff', 'stadium_neutral']].head(2)"
      ]
    },
    {
      "cell_type": "code",
      "execution_count": null,
      "metadata": {
        "id": "Wy7VBAmq2ozd",
        "colab": {
          "base_uri": "https://localhost:8080/"
        },
        "outputId": "1fca1686-794f-499b-a469-299a97ceea71"
      },
      "outputs": [
        {
          "output_type": "execute_result",
          "data": {
            "text/plain": [
              "(36, 36)"
            ]
          },
          "metadata": {},
          "execution_count": 125
        }
      ],
      "source": [
        "# Confirming 36 teams in NFL\n",
        "games['team_home'].nunique(), games['team_away'].nunique()"
      ]
    },
    {
      "cell_type": "code",
      "execution_count": null,
      "metadata": {
        "id": "X7jomOn324_Z",
        "colab": {
          "base_uri": "https://localhost:8080/"
        },
        "outputId": "27c346b8-da3c-44b7-93f3-df93c295a9b3"
      },
      "outputs": [
        {
          "output_type": "execute_result",
          "data": {
            "text/plain": [
              "{'ARI': 'Arizona Cardinals',\n",
              " 'ATL': 'Atlanta Falcons',\n",
              " 'BAL': 'Baltimore Ravens',\n",
              " 'BUF': 'Buffalo Bills',\n",
              " 'CAR': 'Carolina Panthers',\n",
              " 'CHI': 'Chicago Bears',\n",
              " 'CIN': 'Cincinnati Bengals',\n",
              " 'CLE': 'Cleveland Browns',\n",
              " 'DAL': 'Dallas Cowboys',\n",
              " 'DEN': 'Denver Broncos',\n",
              " 'DET': 'Detroit Lions',\n",
              " 'GB': 'Green Bay Packers',\n",
              " 'HOU': 'Houston Texans',\n",
              " 'IND': 'Indianapolis Colts',\n",
              " 'JAX': 'Jacksonville Jaguars',\n",
              " 'KC': 'Kansas City Chiefs',\n",
              " 'LAC': 'Los Angeles Chargers',\n",
              " 'LAR': 'St. Louis Rams',\n",
              " 'LVR': 'Las Vegas Raiders',\n",
              " 'MIA': 'Miami Dolphins',\n",
              " 'MIN': 'Minnesota Vikings',\n",
              " 'NE': 'New England Patriots',\n",
              " 'NO': 'New Orleans Saints',\n",
              " 'NYG': 'New York Giants',\n",
              " 'NYJ': 'New York Jets',\n",
              " 'PHI': 'Philadelphia Eagles',\n",
              " 'PIT': 'Pittsburgh Steelers',\n",
              " 'SEA': 'Seattle Seahawks',\n",
              " 'SF': 'San Francisco 49ers',\n",
              " 'TB': 'Tampa Bay Buccaneers',\n",
              " 'TEN': 'Tennessee Titans',\n",
              " 'WAS': 'Washington Football Team'}"
            ]
          },
          "metadata": {},
          "execution_count": 126
        }
      ],
      "source": [
        "# Connecting Team ID to Team Name and correcting Dict values for some teams\n",
        "team_id = dict(zip(teams.team_id, teams.team_name))\n",
        "team_id['ARI'] = 'Arizona Cardinals'\n",
        "team_id['LAC'] = 'Los Angeles Chargers'\n",
        "team_id['LAR'] = 'St. Louis Rams'\n",
        "team_id['LVR'] = 'Las Vegas Raiders'\n",
        "team_id['NE'] = 'New England Patriots'\n",
        "team_id"
      ]
    },
    {
      "cell_type": "code",
      "execution_count": null,
      "metadata": {
        "id": "qHFL_f5x85SY",
        "colab": {
          "base_uri": "https://localhost:8080/",
          "height": 409
        },
        "outputId": "252677b9-535f-40d9-dbd5-4f64e5faf17a"
      },
      "outputs": [
        {
          "output_type": "execute_result",
          "data": {
            "text/plain": [
              "      schedule_date  schedule_season schedule_week  schedule_playoff  \\\n",
              "13227    2022-01-23             2021      Division                 1   \n",
              "13228    2022-01-23             2021      Division                 1   \n",
              "13229    2022-01-30             2021    Conference                 1   \n",
              "13230    2022-01-30             2021    Conference                 1   \n",
              "13231    2022-02-13             2021     Superbowl                 1   \n",
              "\n",
              "                  team_home  score_home  score_away            team_away  \\\n",
              "13227    Kansas City Chiefs        42.0        36.0        Buffalo Bills   \n",
              "13228  Tampa Bay Buccaneers        27.0        30.0     Los Angeles Rams   \n",
              "13229    Kansas City Chiefs        24.0        27.0   Cincinnati Bengals   \n",
              "13230      Los Angeles Rams        20.0        17.0  San Francisco 49ers   \n",
              "13231      Los Angeles Rams         NaN         NaN   Cincinnati Bengals   \n",
              "\n",
              "           team_favorite_id  spread_favorite                stadium  \\\n",
              "13227    Kansas City Chiefs             -2.5      Arrowhead Stadium   \n",
              "13228  Tampa Bay Buccaneers             -3.0  Raymond James Stadium   \n",
              "13229    Kansas City Chiefs             -7.0      Arrowhead Stadium   \n",
              "13230        St. Louis Rams             -3.5           SoFi Stadium   \n",
              "13231        St. Louis Rams             -4.0           SoFi Stadium   \n",
              "\n",
              "       stadium_neutral  weather_temperature  weather_wind_mph  \\\n",
              "13227                0                 35.0               6.0   \n",
              "13228                0                 50.0              11.0   \n",
              "13229                0                 41.0               4.0   \n",
              "13230                0                 72.0               0.0   \n",
              "13231                1                 72.0               0.0   \n",
              "\n",
              "       weather_humidity weather_detail  \n",
              "13227              54.0            NaN  \n",
              "13228              69.0            NaN  \n",
              "13229              41.0            NaN  \n",
              "13230               NaN           DOME  \n",
              "13231               NaN           DOME  "
            ],
            "text/html": [
              "\n",
              "  <div id=\"df-abe5765d-14bc-4a3f-bed9-ec67e8f2ea9b\">\n",
              "    <div class=\"colab-df-container\">\n",
              "      <div>\n",
              "<style scoped>\n",
              "    .dataframe tbody tr th:only-of-type {\n",
              "        vertical-align: middle;\n",
              "    }\n",
              "\n",
              "    .dataframe tbody tr th {\n",
              "        vertical-align: top;\n",
              "    }\n",
              "\n",
              "    .dataframe thead th {\n",
              "        text-align: right;\n",
              "    }\n",
              "</style>\n",
              "<table border=\"1\" class=\"dataframe\">\n",
              "  <thead>\n",
              "    <tr style=\"text-align: right;\">\n",
              "      <th></th>\n",
              "      <th>schedule_date</th>\n",
              "      <th>schedule_season</th>\n",
              "      <th>schedule_week</th>\n",
              "      <th>schedule_playoff</th>\n",
              "      <th>team_home</th>\n",
              "      <th>score_home</th>\n",
              "      <th>score_away</th>\n",
              "      <th>team_away</th>\n",
              "      <th>team_favorite_id</th>\n",
              "      <th>spread_favorite</th>\n",
              "      <th>stadium</th>\n",
              "      <th>stadium_neutral</th>\n",
              "      <th>weather_temperature</th>\n",
              "      <th>weather_wind_mph</th>\n",
              "      <th>weather_humidity</th>\n",
              "      <th>weather_detail</th>\n",
              "    </tr>\n",
              "  </thead>\n",
              "  <tbody>\n",
              "    <tr>\n",
              "      <th>13227</th>\n",
              "      <td>2022-01-23</td>\n",
              "      <td>2021</td>\n",
              "      <td>Division</td>\n",
              "      <td>1</td>\n",
              "      <td>Kansas City Chiefs</td>\n",
              "      <td>42.0</td>\n",
              "      <td>36.0</td>\n",
              "      <td>Buffalo Bills</td>\n",
              "      <td>Kansas City Chiefs</td>\n",
              "      <td>-2.5</td>\n",
              "      <td>Arrowhead Stadium</td>\n",
              "      <td>0</td>\n",
              "      <td>35.0</td>\n",
              "      <td>6.0</td>\n",
              "      <td>54.0</td>\n",
              "      <td>NaN</td>\n",
              "    </tr>\n",
              "    <tr>\n",
              "      <th>13228</th>\n",
              "      <td>2022-01-23</td>\n",
              "      <td>2021</td>\n",
              "      <td>Division</td>\n",
              "      <td>1</td>\n",
              "      <td>Tampa Bay Buccaneers</td>\n",
              "      <td>27.0</td>\n",
              "      <td>30.0</td>\n",
              "      <td>Los Angeles Rams</td>\n",
              "      <td>Tampa Bay Buccaneers</td>\n",
              "      <td>-3.0</td>\n",
              "      <td>Raymond James Stadium</td>\n",
              "      <td>0</td>\n",
              "      <td>50.0</td>\n",
              "      <td>11.0</td>\n",
              "      <td>69.0</td>\n",
              "      <td>NaN</td>\n",
              "    </tr>\n",
              "    <tr>\n",
              "      <th>13229</th>\n",
              "      <td>2022-01-30</td>\n",
              "      <td>2021</td>\n",
              "      <td>Conference</td>\n",
              "      <td>1</td>\n",
              "      <td>Kansas City Chiefs</td>\n",
              "      <td>24.0</td>\n",
              "      <td>27.0</td>\n",
              "      <td>Cincinnati Bengals</td>\n",
              "      <td>Kansas City Chiefs</td>\n",
              "      <td>-7.0</td>\n",
              "      <td>Arrowhead Stadium</td>\n",
              "      <td>0</td>\n",
              "      <td>41.0</td>\n",
              "      <td>4.0</td>\n",
              "      <td>41.0</td>\n",
              "      <td>NaN</td>\n",
              "    </tr>\n",
              "    <tr>\n",
              "      <th>13230</th>\n",
              "      <td>2022-01-30</td>\n",
              "      <td>2021</td>\n",
              "      <td>Conference</td>\n",
              "      <td>1</td>\n",
              "      <td>Los Angeles Rams</td>\n",
              "      <td>20.0</td>\n",
              "      <td>17.0</td>\n",
              "      <td>San Francisco 49ers</td>\n",
              "      <td>St. Louis Rams</td>\n",
              "      <td>-3.5</td>\n",
              "      <td>SoFi Stadium</td>\n",
              "      <td>0</td>\n",
              "      <td>72.0</td>\n",
              "      <td>0.0</td>\n",
              "      <td>NaN</td>\n",
              "      <td>DOME</td>\n",
              "    </tr>\n",
              "    <tr>\n",
              "      <th>13231</th>\n",
              "      <td>2022-02-13</td>\n",
              "      <td>2021</td>\n",
              "      <td>Superbowl</td>\n",
              "      <td>1</td>\n",
              "      <td>Los Angeles Rams</td>\n",
              "      <td>NaN</td>\n",
              "      <td>NaN</td>\n",
              "      <td>Cincinnati Bengals</td>\n",
              "      <td>St. Louis Rams</td>\n",
              "      <td>-4.0</td>\n",
              "      <td>SoFi Stadium</td>\n",
              "      <td>1</td>\n",
              "      <td>72.0</td>\n",
              "      <td>0.0</td>\n",
              "      <td>NaN</td>\n",
              "      <td>DOME</td>\n",
              "    </tr>\n",
              "  </tbody>\n",
              "</table>\n",
              "</div>\n",
              "      <button class=\"colab-df-convert\" onclick=\"convertToInteractive('df-abe5765d-14bc-4a3f-bed9-ec67e8f2ea9b')\"\n",
              "              title=\"Convert this dataframe to an interactive table.\"\n",
              "              style=\"display:none;\">\n",
              "        \n",
              "  <svg xmlns=\"http://www.w3.org/2000/svg\" height=\"24px\"viewBox=\"0 0 24 24\"\n",
              "       width=\"24px\">\n",
              "    <path d=\"M0 0h24v24H0V0z\" fill=\"none\"/>\n",
              "    <path d=\"M18.56 5.44l.94 2.06.94-2.06 2.06-.94-2.06-.94-.94-2.06-.94 2.06-2.06.94zm-11 1L8.5 8.5l.94-2.06 2.06-.94-2.06-.94L8.5 2.5l-.94 2.06-2.06.94zm10 10l.94 2.06.94-2.06 2.06-.94-2.06-.94-.94-2.06-.94 2.06-2.06.94z\"/><path d=\"M17.41 7.96l-1.37-1.37c-.4-.4-.92-.59-1.43-.59-.52 0-1.04.2-1.43.59L10.3 9.45l-7.72 7.72c-.78.78-.78 2.05 0 2.83L4 21.41c.39.39.9.59 1.41.59.51 0 1.02-.2 1.41-.59l7.78-7.78 2.81-2.81c.8-.78.8-2.07 0-2.86zM5.41 20L4 18.59l7.72-7.72 1.47 1.35L5.41 20z\"/>\n",
              "  </svg>\n",
              "      </button>\n",
              "      \n",
              "  <style>\n",
              "    .colab-df-container {\n",
              "      display:flex;\n",
              "      flex-wrap:wrap;\n",
              "      gap: 12px;\n",
              "    }\n",
              "\n",
              "    .colab-df-convert {\n",
              "      background-color: #E8F0FE;\n",
              "      border: none;\n",
              "      border-radius: 50%;\n",
              "      cursor: pointer;\n",
              "      display: none;\n",
              "      fill: #1967D2;\n",
              "      height: 32px;\n",
              "      padding: 0 0 0 0;\n",
              "      width: 32px;\n",
              "    }\n",
              "\n",
              "    .colab-df-convert:hover {\n",
              "      background-color: #E2EBFA;\n",
              "      box-shadow: 0px 1px 2px rgba(60, 64, 67, 0.3), 0px 1px 3px 1px rgba(60, 64, 67, 0.15);\n",
              "      fill: #174EA6;\n",
              "    }\n",
              "\n",
              "    [theme=dark] .colab-df-convert {\n",
              "      background-color: #3B4455;\n",
              "      fill: #D2E3FC;\n",
              "    }\n",
              "\n",
              "    [theme=dark] .colab-df-convert:hover {\n",
              "      background-color: #434B5C;\n",
              "      box-shadow: 0px 1px 3px 1px rgba(0, 0, 0, 0.15);\n",
              "      filter: drop-shadow(0px 1px 2px rgba(0, 0, 0, 0.3));\n",
              "      fill: #FFFFFF;\n",
              "    }\n",
              "  </style>\n",
              "\n",
              "      <script>\n",
              "        const buttonEl =\n",
              "          document.querySelector('#df-abe5765d-14bc-4a3f-bed9-ec67e8f2ea9b button.colab-df-convert');\n",
              "        buttonEl.style.display =\n",
              "          google.colab.kernel.accessAllowed ? 'block' : 'none';\n",
              "\n",
              "        async function convertToInteractive(key) {\n",
              "          const element = document.querySelector('#df-abe5765d-14bc-4a3f-bed9-ec67e8f2ea9b');\n",
              "          const dataTable =\n",
              "            await google.colab.kernel.invokeFunction('convertToInteractive',\n",
              "                                                     [key], {});\n",
              "          if (!dataTable) return;\n",
              "\n",
              "          const docLinkHtml = 'Like what you see? Visit the ' +\n",
              "            '<a target=\"_blank\" href=https://colab.research.google.com/notebooks/data_table.ipynb>data table notebook</a>'\n",
              "            + ' to learn more about interactive tables.';\n",
              "          element.innerHTML = '';\n",
              "          dataTable['output_type'] = 'display_data';\n",
              "          await google.colab.output.renderOutput(dataTable, element);\n",
              "          const docLink = document.createElement('div');\n",
              "          docLink.innerHTML = docLinkHtml;\n",
              "          element.appendChild(docLink);\n",
              "        }\n",
              "      </script>\n",
              "    </div>\n",
              "  </div>\n",
              "  "
            ]
          },
          "metadata": {},
          "execution_count": 127
        }
      ],
      "source": [
        "# Changing Team ID's to Team Names\n",
        "games.replace({\"team_favorite_id\": team_id}, inplace=True)\n",
        "games['team_favorite_id'].value_counts(), games['team_favorite_id'].nunique()\n",
        "games = games[games['team_favorite_id'] != 'PICK']\n",
        "games.tail()"
      ]
    },
    {
      "cell_type": "code",
      "execution_count": null,
      "metadata": {
        "id": "8f7Yo2Tr-_zJ",
        "colab": {
          "base_uri": "https://localhost:8080/"
        },
        "outputId": "b0a18260-7150-43ad-b5c3-93ee664ba1b0"
      },
      "outputs": [
        {
          "output_type": "execute_result",
          "data": {
            "text/plain": [
              "1    3568\n",
              "0    2268\n",
              "Name: team_favorite_id, dtype: int64"
            ]
          },
          "metadata": {},
          "execution_count": 128
        }
      ],
      "source": [
        "# Creating home win column and representing favorite team as binary classifier depending if favorite team is home team or not\n",
        "games['home_win'] = games['score_home'] > games['score_away']\n",
        "games['home_win'] = games['home_win'].astype(int)\n",
        "games['team_favorite_id'] = games['team_favorite_id'] == games['team_home']\n",
        "games['team_favorite_id'] = games['team_favorite_id'].replace({True: 1, False: 0, np.nan:'nan'})\n",
        "games['team_favorite_id'].replace({'nan':np.nan}, inplace=True)\n",
        "games['team_favorite_id'].value_counts()"
      ]
    },
    {
      "cell_type": "code",
      "execution_count": null,
      "metadata": {
        "id": "F1l6NoxaDxpZ"
      },
      "outputs": [],
      "source": [
        "# Resetting index\n",
        "games.reset_index(drop=True, inplace=True)"
      ]
    },
    {
      "cell_type": "code",
      "execution_count": null,
      "metadata": {
        "id": "jI0-x03dgBqO"
      },
      "outputs": [],
      "source": [
        "# Merging the data for stadiums to the games df\n",
        "games = pd.merge(games, stadiums, left_on = 'stadium', right_on = 'stadium_name')\n",
        "\n",
        "# Resorting to be by date\n",
        "games.sort_values('schedule_date', inplace = True) "
      ]
    },
    {
      "cell_type": "code",
      "execution_count": null,
      "metadata": {
        "id": "ghl2OtfR1IF7"
      },
      "outputs": [],
      "source": [
        "# For MVP, decided weather features for model are to be dropped.\n",
        "games.drop(columns=['stadium_weather_type', 'weather_wind_mph', 'weather_humidity', 'weather_detail', 'weather_temperature', 'stadium_open', 'stadium_location', 'stadium_close'], inplace=True)"
      ]
    },
    {
      "cell_type": "code",
      "execution_count": null,
      "metadata": {
        "id": "se5wAGef9INq"
      },
      "outputs": [],
      "source": [
        "games = games.dropna(subset=['score_home', 'score_away']) "
      ]
    },
    {
      "cell_type": "code",
      "execution_count": null,
      "metadata": {
        "id": "LxYZPzvq1uxe"
      },
      "outputs": [],
      "source": [
        "def calculate_winner(home_team, away_team):\n",
        "  teams = [home_team, away_team]\n",
        "  sample = games.loc[games['team_home'].isin(teams) & games['team_away'].isin(teams)]\n",
        "  wins, total, wins1, total1, wins2, total2, wins3, total3 = 0, 0, 0, 0, 0, 0, 0, 0\n",
        "  val1, val2 = 0,0\n",
        "  sample1 = sample.query('team_home == @teams[0]')\n",
        "\n",
        "  for index, row in sample.iterrows():\n",
        "      if row['score_home'] > row['score_away']:\n",
        "        wins += 1\n",
        "      total += 1\n",
        "  h2h = round(wins/total, 2)\n",
        "  print(f'The head to head win probability for the home team is {h2h}')\n",
        "\n",
        "  for index, row in sample1.iterrows():\n",
        "      if row['score_home'] > row['score_away']:\n",
        "        wins1 += 1\n",
        "      total1 += 1\n",
        "  home = round(wins1/total1, 2)\n",
        "  print(f'The head to head win probability for when the home team plays at home is {home}')\n",
        "\n",
        "  sample2 = games.query('team_home == @teams[0] or team_away == @teams[0]')\n",
        "  for index, row in sample2.iterrows():\n",
        "      if row['score_home'] == teams[0]:\n",
        "        if row['score_home'] > row['score_away']:\n",
        "                wins2 += 1\n",
        "      else:\n",
        "        if row['score_home'] < row['score_away']:\n",
        "                wins2 += 1\n",
        "      total2 += 1\n",
        "  val1 = round(wins2/total2, 2)\n",
        "\n",
        "  sample2 = games.query('team_home == @teams[1] or team_away == @teams[1]')\n",
        "  for index, row in sample2.iterrows():\n",
        "      if row['score_home'] == teams[1]:\n",
        "        if row['score_home'] > row['score_away']:\n",
        "                wins2 += 1\n",
        "      else:\n",
        "        if row['score_home'] < row['score_away']:\n",
        "                wins2 += 1\n",
        "      total2 += 1\n",
        "  val2 = round(wins2/total2, 2)\n",
        "  \n",
        "  sample3 = games.query('team_home == @teams[0]')\n",
        "  for index, row in sample3.iterrows():\n",
        "      if row['score_home'] > row['score_away']:\n",
        "        wins3 += 1\n",
        "      total3 += 1\n",
        "  home_r = round(wins3/total3, 2)\n",
        "\n",
        "  fav1 = games.query('team_home == @teams[0]')['team_favorite_id'].mean()\n",
        "  fav2 = games.query('team_home == @teams[1]')['team_favorite_id'].mean()\n",
        "\n",
        "  ave = (h2h + home + home_r)/3\n",
        "  if val1 >= val2:\n",
        "    ave += 0.02\n",
        "    print('The home team win rate is higher than the away team for all games, therefore an edditional 2% probability is added.')\n",
        "  elif val1 < val2:\n",
        "    ave-= 0.02\n",
        "    print('The away team win rate is higher than the away team for all games, therefore an edditional 2% probability is subtracted.')\n",
        "\n",
        "  if fav1 > fav2:\n",
        "    ave += 0.02\n",
        "    print('The home team favoritism count is higher than the away team for all games, therefore an edditional 2% probability is added.')\n",
        "  elif fav1 < fav2:\n",
        "    ave-= 0.02\n",
        "    print('The away team favoritism count is higher than the home team for all games, therefore an edditional 2% probability is removed.')\n",
        "\n",
        "  if ave > 0.5:\n",
        "    print(f\"The favorite is: {teams[0]}\")\n",
        "    print(f'They have a probability of {round(ave, 2)} to win.')\n",
        "  else:\n",
        "    print(f\"The favorite is: {teams[1]}\")\n",
        "    print(f'They have a probability of {round(1-ave, 2)} to win.')\n",
        "  "
      ]
    },
    {
      "cell_type": "code",
      "source": [
        "def calculate_score(team, date):\n",
        "  import datetime\n",
        "  from sklearn.linear_model import LinearRegression\n",
        "  from sklearn.model_selection import train_test_split\n",
        "\n",
        "  df = games.query('team_home == @team')\n",
        "  df['schedule_date'] = df['schedule_date'].map(datetime.datetime.toordinal)\n",
        "\n",
        "  y = np.asarray(df['score_home'])\n",
        "  X = df[['schedule_date']]\n",
        "  X_train, X_test, y_train, y_test = train_test_split(X,y,train_size=0.7,random_state=42)\n",
        "\n",
        "  model = LinearRegression() \n",
        "  model.fit(X_train, y_train) \n",
        "  # results = model.predict(X_test)\n",
        "  # X_test = X_test['schedule_date'].astype(int).map(dt.datetime.fromordinal)\n",
        "\n",
        "  result = model.predict([[datetime.datetime.strptime(date, \"%Y-%m-%d\").toordinal()]])\n",
        "  print(f\"The {team} are predicted to score {round(result[0],0)} on {date}\")"
      ],
      "metadata": {
        "id": "yUAqEAPZcJF4"
      },
      "execution_count": null,
      "outputs": []
    },
    {
      "cell_type": "code",
      "source": [
        "calculate_winner('Buffalo Bills', 'Kansas City Chiefs')"
      ],
      "metadata": {
        "colab": {
          "base_uri": "https://localhost:8080/"
        },
        "id": "aGJuDsz1TM2h",
        "outputId": "23d37989-ccf6-45ff-f721-3a22a9111dc7"
      },
      "execution_count": null,
      "outputs": [
        {
          "output_type": "stream",
          "name": "stdout",
          "text": [
            "The head to head win probability for the home team is 0.47\n",
            "The head to head win probability for when the home team plays at home is 0.4\n",
            "The home team win rate is higher than the away team for all games, therefore an edditional 2% probability is added.\n",
            "The away team favoritism count is higher than the home team for all games, therefore an edditional 2% probability is removed.\n",
            "The favorite is: Kansas City Chiefs\n",
            "They have a probability of 0.53 to win.\n"
          ]
        }
      ]
    },
    {
      "cell_type": "code",
      "source": [
        "calculate_score('Buffalo Bills', '2022-03-27')"
      ],
      "metadata": {
        "colab": {
          "base_uri": "https://localhost:8080/"
        },
        "id": "ENbs45azVl2R",
        "outputId": "a3c800bd-3998-4de3-b612-f14bbebadc53"
      },
      "execution_count": null,
      "outputs": [
        {
          "output_type": "stream",
          "name": "stdout",
          "text": [
            "The Buffalo Bills is predicted to score 24.0 on 2022-03-27\n"
          ]
        },
        {
          "output_type": "stream",
          "name": "stderr",
          "text": [
            "/usr/local/lib/python3.7/dist-packages/ipykernel_launcher.py:7: SettingWithCopyWarning: \n",
            "A value is trying to be set on a copy of a slice from a DataFrame.\n",
            "Try using .loc[row_indexer,col_indexer] = value instead\n",
            "\n",
            "See the caveats in the documentation: https://pandas.pydata.org/pandas-docs/stable/user_guide/indexing.html#returning-a-view-versus-a-copy\n",
            "  import sys\n",
            "/usr/local/lib/python3.7/dist-packages/sklearn/base.py:451: UserWarning: X does not have valid feature names, but LinearRegression was fitted with feature names\n",
            "  \"X does not have valid feature names, but\"\n"
          ]
        }
      ]
    }
  ],
  "metadata": {
    "colab": {
      "collapsed_sections": [],
      "name": "NFL Sports Betting",
      "provenance": []
    },
    "kernelspec": {
      "display_name": "Python 3",
      "name": "python3"
    },
    "language_info": {
      "name": "python"
    }
  },
  "nbformat": 4,
  "nbformat_minor": 0
}